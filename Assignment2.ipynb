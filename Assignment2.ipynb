{
  "nbformat": 4,
  "nbformat_minor": 0,
  "metadata": {
    "colab": {
      "provenance": [],
      "toc_visible": true
    },
    "kernelspec": {
      "name": "python3",
      "display_name": "Python 3"
    },
    "language_info": {
      "name": "python"
    }
  },
  "cells": [
    {
      "cell_type": "markdown",
      "source": [
        "Q1"
      ],
      "metadata": {
        "id": "mzxFqzzr0yns"
      }
    },
    {
      "cell_type": "code",
      "execution_count": 2,
      "metadata": {
        "id": "Qb8VFUEWb3d5",
        "colab": {
          "base_uri": "https://localhost:8080/"
        },
        "outputId": "c8b7a47d-b93d-4edc-d0ad-344fb2c84167"
      },
      "outputs": [
        {
          "output_type": "stream",
          "name": "stdout",
          "text": [
            "Ascending order: \n",
            " [20, 40, 50, 60, 70, 80, 200, 300]\n",
            "Descending order: \n",
            " [300, 200, 80, 70, 60, 50, 40, 20]\n"
          ]
        }
      ],
      "source": [
        "L =  [10, 20, 30, 40, 50, 60, 70, 80]\n",
        "L.append(200)\n",
        "L.append(300)\n",
        "L.remove(10)\n",
        "L.remove(30)\n",
        "L.sort()\n",
        "print(\"Ascending order: \\n\",L)\n",
        "L.sort(reverse=True)\n",
        "print(\"Descending order: \\n\",L)"
      ]
    },
    {
      "cell_type": "markdown",
      "source": [
        "Q2"
      ],
      "metadata": {
        "id": "IVGron--12g0"
      }
    },
    {
      "cell_type": "code",
      "source": [
        "marks =  (45, 89.5, 76, 45.4, 89, 92, 58, 45)\n",
        "maxx= max(marks)\n",
        "print(f\"Highest score is {maxx} at index {marks.index(maxx)}\" )\n",
        "minn = min(marks)\n",
        "print(f\"Lowest score is {minn}. It appears {marks.count(minn)} times\" )\n",
        "reverseMarks = list(marks[::-1])\n",
        "print(reverseMarks)\n",
        "if(76 in marks):\n",
        "  print(f\"76 is present at index {marks.index(76)}\")\n",
        "else:\n",
        "  print(\"76 is not present\")\n"
      ],
      "metadata": {
        "colab": {
          "base_uri": "https://localhost:8080/"
        },
        "id": "ascMbl5L14DP",
        "outputId": "33bb88c2-b0e3-4ba0-fdfe-f988fe9fd6cb"
      },
      "execution_count": 8,
      "outputs": [
        {
          "output_type": "stream",
          "name": "stdout",
          "text": [
            "Highest score is 92 at index 5\n",
            "Lowest score is 45. It appears 2 times\n",
            "[45, 58, 92, 89, 45.4, 76, 89.5, 45]\n",
            "76 is present at index 2\n"
          ]
        }
      ]
    },
    {
      "cell_type": "markdown",
      "source": [
        "Q3"
      ],
      "metadata": {
        "id": "yumqv2ta4-0I"
      }
    },
    {
      "cell_type": "code",
      "source": [
        "import random\n",
        "nums = [random.randrange(100,901) for i in range(100)]\n",
        "oddnums , evennums, primenums = [],[],[]\n",
        "\n",
        "def isPrime(n):\n",
        "  if n<2:\n",
        "    return False\n",
        "  for i in range(2,int(n**0.5)+1):\n",
        "    if n%i==0 :\n",
        "      return False\n",
        "  return True\n",
        "\n",
        "for num in nums:\n",
        "  (oddnums if num%2 else evennums).append(num)\n",
        "  if(isPrime(num)):\n",
        "    primenums.append(num)\n",
        "print(oddnums)\n",
        "print(evennums)\n",
        "print(primenums)\n"
      ],
      "metadata": {
        "colab": {
          "base_uri": "https://localhost:8080/"
        },
        "id": "5iydaO0n5ASS",
        "outputId": "8bcbef64-302c-4a07-e47a-81ea8be0b32f"
      },
      "execution_count": 4,
      "outputs": [
        {
          "output_type": "stream",
          "name": "stdout",
          "text": [
            "[351, 743, 617, 695, 621, 337, 477, 499, 877, 699, 769, 461, 869, 721, 739, 135, 179, 507, 717, 451, 617, 457, 625, 769, 733, 401, 539, 531, 569, 649, 647, 197, 267, 293, 383, 153, 809, 329, 735, 399, 867, 361, 601, 861, 173, 333, 781, 599, 835]\n",
            "[126, 446, 274, 880, 476, 854, 280, 134, 158, 652, 276, 710, 846, 722, 874, 222, 476, 308, 354, 194, 140, 266, 582, 392, 722, 216, 744, 248, 582, 250, 496, 502, 568, 700, 258, 490, 584, 474, 884, 376, 664, 262, 632, 770, 804, 198, 126, 550, 886, 314, 606]\n",
            "[743, 617, 337, 499, 877, 769, 461, 739, 179, 617, 457, 769, 733, 401, 569, 647, 197, 293, 383, 809, 601, 173, 599]\n"
          ]
        }
      ]
    },
    {
      "cell_type": "markdown",
      "source": [
        "Q4"
      ],
      "metadata": {
        "id": "rI-br_thJlkv"
      }
    },
    {
      "cell_type": "code",
      "source": [
        "A = {34, 56, 78, 90}\n",
        "B = {78, 45, 90, 23}\n",
        "print(\"Union: \",A|B)\n",
        "print(\"Intersection: \",A&B)\n",
        "print(\"Symmetric difference: \", A^B)\n",
        "print(\"is A a subset of B? \",A<=B)\n",
        "\n",
        "delScore = int(input(\"Enter score to delete: \"))\n",
        "if(delScore in A):\n",
        "  A.remove(delScore)\n",
        "else:\n",
        "  print(\"Given score is not present in set A\")\n",
        "print(\"Updated set A is: \",A)\n",
        "\n",
        "\n"
      ],
      "metadata": {
        "colab": {
          "base_uri": "https://localhost:8080/"
        },
        "id": "KcAR0kFZJmz9",
        "outputId": "8fcb2d9d-4056-45b4-e6a3-fc7b8e7f5513"
      },
      "execution_count": 9,
      "outputs": [
        {
          "output_type": "stream",
          "name": "stdout",
          "text": [
            "Union:  {34, 45, 78, 23, 56, 90}\n",
            "Intersection:  {90, 78}\n",
            "Symmetric difference:  {34, 45, 23, 56}\n",
            "is A a subset of B?  False\n",
            "Enter score to delete: 90\n",
            "Updated set A is:  {56, 34, 78}\n"
          ]
        }
      ]
    },
    {
      "cell_type": "markdown",
      "source": [
        "Q5\n"
      ],
      "metadata": {
        "id": "r6vUikcOLYzM"
      }
    },
    {
      "cell_type": "code",
      "source": [
        "sample_dict = {\"name\": \"kelly\", \"age\": 25, \"salary\": 8000, \"city\": \"New York\"}\n",
        "sample_dict[\"location\"] = sample_dict.pop(\"city\")\n",
        "print(sample_dict)"
      ],
      "metadata": {
        "colab": {
          "base_uri": "https://localhost:8080/"
        },
        "id": "yUfjMDPdLZ0p",
        "outputId": "d2bde6c0-6730-40bd-aa36-f09f40d8c607"
      },
      "execution_count": 11,
      "outputs": [
        {
          "output_type": "stream",
          "name": "stdout",
          "text": [
            "{'name': 'kelly', 'age': 25, 'salary': 8000, 'location': 'New York'}\n"
          ]
        }
      ]
    }
  ]
}