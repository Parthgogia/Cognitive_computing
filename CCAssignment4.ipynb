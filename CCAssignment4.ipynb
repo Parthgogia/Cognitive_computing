{
  "nbformat": 4,
  "nbformat_minor": 0,
  "metadata": {
    "colab": {
      "provenance": []
    },
    "kernelspec": {
      "name": "python3",
      "display_name": "Python 3"
    },
    "language_info": {
      "name": "python"
    }
  },
  "cells": [
    {
      "cell_type": "markdown",
      "source": [
        "Q1"
      ],
      "metadata": {
        "id": "GZNIpZVSPBaI"
      }
    },
    {
      "cell_type": "code",
      "execution_count": 2,
      "metadata": {
        "colab": {
          "base_uri": "https://localhost:8080/"
        },
        "id": "spoGYKveO94Y",
        "outputId": "ca7378fc-ab53-493b-d10e-53aa6929b46f"
      },
      "outputs": [
        {
          "output_type": "stream",
          "name": "stdout",
          "text": [
            "[3 4 5 6 7 8]\n",
            "[ 3  6  9 12 15 18]\n",
            "[0.5 1.  1.5 2.  2.5 3. ]\n"
          ]
        }
      ],
      "source": [
        "import numpy as np\n",
        "arr = np.array([1,2,3,4,5,6])\n",
        "print(arr+2)\n",
        "print(arr*3)\n",
        "print(arr/2)"
      ]
    },
    {
      "cell_type": "markdown",
      "source": [
        "Q2"
      ],
      "metadata": {
        "id": "hcvwgwIpPsbz"
      }
    },
    {
      "cell_type": "code",
      "source": [
        "arr = np.array([1, 2, 3, 6, 4, 5])\n",
        "newarr = np.flip(arr)\n",
        "print(newarr)\n",
        "print()\n",
        "\n",
        "x = np.array([1,2,3,4,5,1,2,1,1,1])\n",
        "y = np.array([1, 1, 1, 2, 3, 4, 2, 4, 3, 3])\n",
        "\n",
        "def getMostFreq(x):\n",
        "  unique,count = np.unique(x,return_counts=True)\n",
        "  mode = unique[np.argmax(count)]\n",
        "  indices = np.where(x == mode)[0]\n",
        "  return mode,indices\n",
        "\n",
        "mode,indices = getMostFreq(x)\n",
        "print(\"For array x:\")\n",
        "print(\"Most frequent element is: \",mode)\n",
        "print(\"Indices: \",indices)\n",
        "print()\n",
        "\n",
        "mode,indices = getMostFreq(y)\n",
        "print(\"For array y:\")\n",
        "print(\"Most frequent element is: \",mode)\n",
        "print(\"Indices: \",indices)\n",
        "\n",
        "\n"
      ],
      "metadata": {
        "colab": {
          "base_uri": "https://localhost:8080/"
        },
        "id": "yFle6bwQPtXo",
        "outputId": "2af9ea5e-b897-4e28-930b-f6466229f445"
      },
      "execution_count": 15,
      "outputs": [
        {
          "output_type": "stream",
          "name": "stdout",
          "text": [
            "[5 4 6 3 2 1]\n",
            "\n",
            "For array x:\n",
            "Most frequent element is:  1\n",
            "Indices:  [0 5 7 8 9]\n",
            "\n",
            "For array y:\n",
            "Most frequent element is:  1\n",
            "Indices:  [0 1 2]\n"
          ]
        }
      ]
    },
    {
      "cell_type": "markdown",
      "source": [
        "Q3"
      ],
      "metadata": {
        "id": "oMtS1xnlRzxL"
      }
    },
    {
      "cell_type": "code",
      "source": [
        "arr=np.array([[10, 20, 30], [40, 50, 60], [70, 80, 90]])\n",
        "print(arr[0][1])\n",
        "print(arr[2][0])"
      ],
      "metadata": {
        "colab": {
          "base_uri": "https://localhost:8080/"
        },
        "id": "eHXThmxwR0v_",
        "outputId": "5677ed92-f2fd-4c76-ebbc-f0f56d25a0b0"
      },
      "execution_count": null,
      "outputs": [
        {
          "output_type": "stream",
          "name": "stdout",
          "text": [
            "20\n",
            "70\n"
          ]
        }
      ]
    },
    {
      "cell_type": "markdown",
      "source": [
        "Q4"
      ],
      "metadata": {
        "id": "lQbweUk4rjBe"
      }
    },
    {
      "cell_type": "code",
      "source": [
        "parth=np.linspace(10,100,25)\n",
        "\n",
        "print('Array:',parth)\n",
        "\n",
        "print('Dimension: ',parth.ndim)\n",
        "print('Shape :',parth.shape)\n",
        "print('Number of elements:',parth.size)\n",
        "print('Data Type:',parth.dtype)\n",
        "print('Total bytes: ',parth.nbytes)\n",
        "\n",
        "transpose=parth.reshape(25,1)\n",
        "print('Using reshape:')\n",
        "print(transpose)\n",
        "print()\n",
        "\n",
        "print('Using T attribute:')\n",
        "transpose=parth.T\n",
        "print(transpose)\n",
        "print()\n",
        "print('Cannot use T attribute')"
      ],
      "metadata": {
        "colab": {
          "base_uri": "https://localhost:8080/"
        },
        "id": "4JeKOXWNrlzd",
        "outputId": "6f6be8c6-9d97-46b2-dfa6-d4f46ad375ee"
      },
      "execution_count": 17,
      "outputs": [
        {
          "output_type": "stream",
          "name": "stdout",
          "text": [
            "Array: [ 10.    13.75  17.5   21.25  25.    28.75  32.5   36.25  40.    43.75\n",
            "  47.5   51.25  55.    58.75  62.5   66.25  70.    73.75  77.5   81.25\n",
            "  85.    88.75  92.5   96.25 100.  ]\n",
            "Dimension:  1\n",
            "Shape : (25,)\n",
            "Number of elements: 25\n",
            "Data Type: float64\n",
            "Total bytes:  200\n",
            "Using reshape:\n",
            "[[ 10.  ]\n",
            " [ 13.75]\n",
            " [ 17.5 ]\n",
            " [ 21.25]\n",
            " [ 25.  ]\n",
            " [ 28.75]\n",
            " [ 32.5 ]\n",
            " [ 36.25]\n",
            " [ 40.  ]\n",
            " [ 43.75]\n",
            " [ 47.5 ]\n",
            " [ 51.25]\n",
            " [ 55.  ]\n",
            " [ 58.75]\n",
            " [ 62.5 ]\n",
            " [ 66.25]\n",
            " [ 70.  ]\n",
            " [ 73.75]\n",
            " [ 77.5 ]\n",
            " [ 81.25]\n",
            " [ 85.  ]\n",
            " [ 88.75]\n",
            " [ 92.5 ]\n",
            " [ 96.25]\n",
            " [100.  ]]\n",
            "\n",
            "Using T attribute:\n",
            "[ 10.    13.75  17.5   21.25  25.    28.75  32.5   36.25  40.    43.75\n",
            "  47.5   51.25  55.    58.75  62.5   66.25  70.    73.75  77.5   81.25\n",
            "  85.    88.75  92.5   96.25 100.  ]\n",
            "\n",
            "Cannot use T attribute\n"
          ]
        }
      ]
    },
    {
      "cell_type": "markdown",
      "source": [
        "Q5"
      ],
      "metadata": {
        "id": "HFctSLN4s5pl"
      }
    },
    {
      "cell_type": "code",
      "source": [
        "ucs420_parth_gogia = np.array([[10, 20, 30, 40], [50, 60, 70, 80], [90, 15, 20, 35]])\n",
        "print(ucs420_parth_gogia)\n",
        "print()\n",
        "print('Mean : ', np.mean(ucs420_parth_gogia))\n",
        "print()\n",
        "print('Median : ', np.median(ucs420_parth_gogia))\n",
        "print()\n",
        "print('Max : ', np.max(ucs420_parth_gogia))\n",
        "print()\n",
        "print('Min : ',  np.min(ucs420_parth_gogia))\n",
        "print()\n",
        "print('Unique elements: ', np.unique(ucs420_parth_gogia))\n",
        "print()\n",
        "\n",
        "reshaped_ucs420_parth_gogia=ucs420_parth_gogia.reshape(4,3)\n",
        "resized_ucs420_parth_gogia=np.resize(ucs420_parth_gogia,(2,3))\n",
        "print(\"Reshaped: \\n\", reshaped_ucs420_parth_gogia)\n",
        "print()\n",
        "print(\"Resized: \\n\", resized_ucs420_parth_gogia)"
      ],
      "metadata": {
        "colab": {
          "base_uri": "https://localhost:8080/"
        },
        "id": "cXHtZuK5s6wA",
        "outputId": "9062ad9b-484d-4a55-821f-ae1a5e68c276"
      },
      "execution_count": 10,
      "outputs": [
        {
          "output_type": "stream",
          "name": "stdout",
          "text": [
            "[[10 20 30 40]\n",
            " [50 60 70 80]\n",
            " [90 15 20 35]]\n",
            "\n",
            "Mean :  43.333333333333336\n",
            "\n",
            "Median :  37.5\n",
            "\n",
            "Max :  90\n",
            "\n",
            "Min :  10\n",
            "\n",
            "Unique elements:  [10 15 20 30 35 40 50 60 70 80 90]\n",
            "\n",
            "Reshaped: \n",
            " [[10 20 30]\n",
            " [40 50 60]\n",
            " [70 80 90]\n",
            " [15 20 35]]\n",
            "\n",
            "Resized: \n",
            " [[10 20 30]\n",
            " [40 50 60]]\n"
          ]
        }
      ]
    }
  ]
}